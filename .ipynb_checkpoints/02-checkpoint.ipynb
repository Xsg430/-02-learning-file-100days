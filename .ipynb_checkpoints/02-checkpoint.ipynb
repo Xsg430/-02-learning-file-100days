{
 "cells": [
  {
   "cell_type": "markdown",
   "metadata": {},
   "source": [
    "## 简单的线性回归\n",
    "### 使用一个单一特征预测\n",
    "线性回归是一个基于自变量X（independent variable）预测因变量Y（dependent variable）的方法。假设两个变量有线性相关性，通过X预测Y\n",
    "### 如何发现最合适的线\n",
    "在这个回归模型中，通过最小化预测的错误来发现***最佳拟合***\n",
    "$$y=b_0+b_1x_1$$\n",
    "\n",
    "## 第一步：数据预处理\n",
    "- 引入库\n",
    "- 引入数据集\n",
    "- 检查丢失数据\n",
    "- 分割数据集\n",
    "- 特征缩放\n",
    "~~~python\n",
    "data=pd.read_excel(r'.\\studentscores.xlsx')\n",
    "X=data.iloc[:,:1].values\n",
    "Y=data.iloc[:,1].values\n",
    "X_train, X_test, Y_train, Y_test = train_test_split( X , Y , test_size = 1/4, random_state = 0)\n",
    "sc_X = StandardScaler()\n",
    "~~~\n",
    "## 第二步：使用训练集拟合简单线性回归模型\n",
    "为了让模型拟合数据集，使用***sklearn.linear_model***中的***LinearRegression***；构建一个***LinearRegression类的regressor***\n",
    "\n",
    "这时可以使用***LinearRegression***类的fit()方法对数据进行拟合\n",
    "~~~python\n",
    "from sklearn.linear_model import LinearRegression\n",
    "regressor=LinearRegression()\n",
    "regressor=regressor.fit(X_train,Y_train)\n",
    "~~~\n",
    "## 第三步：预测结果\n",
    "现在可以预测test集中的观测数据。保存输出向量Y_pred。使用***LinearRegression***类中的预测方法\n",
    "~~~python\n",
    "Y_pred=regressor.predict(X_test)\n",
    "~~~\n",
    "## 第四步：可视化\n",
    "可视化结果，使用***matplotlib.pyplot***库构建一个散点图\n",
    "~~~python\n",
    "import matplotlib.pyplot as plt\n",
    "plt.scatter(X_train , Y_train, color = 'red')\n",
    "plt.plot(X_train , regressor.predict(X_train), color ='blue')\n",
    "~~~"
   ]
  },
  {
   "cell_type": "code",
   "execution_count": 41,
   "metadata": {},
   "outputs": [],
   "source": [
    "import numpy as np\n",
    "import pandas as pd\n",
    "from pandas.core.frame import DataFrame\n",
    "from sklearn.preprocessing import LabelEncoder, OneHotEncoder\n",
    "from sklearn.preprocessing import StandardScaler\n",
    "from sklearn.preprocessing import Imputer\n",
    "from sklearn.cross_validation import train_test_split\n",
    "data=pd.read_excel(r'.\\studentscores.xlsx')\n",
    "X=data.iloc[:,:1].values\n",
    "Y=data.iloc[:,1].values\n",
    "\n",
    "# imputer=Imputer(missing_values=\"NaN\", strategy=\"mean\", axis=0)\n",
    "# imputer=imputer.fit(X[:,0:1])\n",
    "# X[:,0:1]=imputer.transform(X[:,0:1])\n",
    "\n",
    "# labelencoder_X=LabelEncoder()\n",
    "# labelencoder_Y=LabelEncoder()\n",
    "# X[:,0]=labelencoder_X.fit_transform(X[:,0])\n",
    "# onehotencoder=OneHotEncoder(categorical_features=[0])\n",
    "# X=onehotencoder.fit_transform(X).toarray()\n",
    "# Y=labelencoder_Y.fit_transform(Y)\n",
    "\n",
    "X_train, X_test, Y_train, Y_test = train_test_split( X , Y , test_size = 1/4, random_state = 0)\n",
    "sc_X = StandardScaler()"
   ]
  },
  {
   "cell_type": "code",
   "execution_count": 42,
   "metadata": {},
   "outputs": [
    {
     "name": "stdout",
     "output_type": "stream",
     "text": [
      "LinearRegression(copy_X=True, fit_intercept=True, n_jobs=1, normalize=False)\n"
     ]
    }
   ],
   "source": [
    "from sklearn.linear_model import LinearRegression\n",
    "regressor=LinearRegression()\n",
    "regressor=regressor.fit(X_train,Y_train)\n",
    "print(regressor)"
   ]
  },
  {
   "cell_type": "code",
   "execution_count": 43,
   "metadata": {},
   "outputs": [],
   "source": [
    "Y_pred=regressor.predict(X_test)"
   ]
  },
  {
   "cell_type": "code",
   "execution_count": 44,
   "metadata": {},
   "outputs": [
    {
     "data": {
      "text/plain": [
       "[<matplotlib.lines.Line2D at 0x1fedfa015c0>]"
      ]
     },
     "execution_count": 44,
     "metadata": {},
     "output_type": "execute_result"
    },
    {
     "data": {
      "image/png": "[encoded data removed]",
      "text/plain": [
       "<Figure size 432x288 with 1 Axes>"
      ]
     },
     "metadata": {
      "needs_background": "light"
     },
     "output_type": "display_data"
    }
   ],
   "source": [
    "import matplotlib.pyplot as plt\n",
    "plt.scatter(X_train , Y_train, color = 'red')\n",
    "plt.plot(X_train , regressor.predict(X_train), color ='blue')\n"
   ]
  },
  {
   "cell_type": "code",
   "execution_count": 45,
   "metadata": {},
   "outputs": [
    {
     "data": {
      "text/plain": [
       "[<matplotlib.lines.Line2D at 0x1fedf9ef0f0>]"
      ]
     },
     "execution_count": 45,
     "metadata": {},
     "output_type": "execute_result"
    },
    {
     "data": {
      "image/png": "[encoded data removed]",
      "text/plain": [
       "<Figure size 432x288 with 1 Axes>"
      ]
     },
     "metadata": {
      "needs_background": "light"
     },
     "output_type": "display_data"
    }
   ],
   "source": [
    "plt.scatter(X_test , Y_test, color = 'blue')\n",
    "plt.plot(X_test , regressor.predict(X_test), color ='blue')"
   ]
  },
  {
   "cell_type": "code",
   "execution_count": null,
   "metadata": {},
   "outputs": [],
   "source": []
  }
 ],
 "metadata": {
  "kernelspec": {
   "display_name": "Python 3",
   "language": "python",
   "name": "python3"
  },
  "language_info": {
   "codemirror_mode": {
    "name": "ipython",
    "version": 3
   },
   "file_extension": ".py",
   "mimetype": "text/x-python",
   "name": "python",
   "nbconvert_exporter": "python",
   "pygments_lexer": "ipython3",
   "version": "3.7.0"
  }
 },
 "nbformat": 4,
 "nbformat_minor": 2
}
