{
 "cells": [
  {
   "cell_type": "markdown",
   "metadata": {},
   "source": [
    "## 多重线性回归（multiple linear regression）\n",
    "### 多重线性回归的概念\n",
    "多重线性回归是基于观测数据，给2个以上特征与结果构建线性模型的等式。构建多重线性回归模型的步骤与单线性回归模型类似。其中不同在于评价。你将使用评价去找出哪一个因素对预测结果有更大的影响以及不同变量之间的相关性。\n",
    "$$y=b_0+b_1x_1+b_2x_2+...+b_nx_n$$\n",
    "### 假设（对于一个成功的回归分析，确认以下四点假设十分重要）\n",
    "- 线性（linearity）：自变量和因变量之间的关系应该是线性的。\n",
    "- 同方差性（homoscedasticity）：误差保持不变。**这个不是很理解，感觉是要让误差恒定？**\n",
    "- 多元正态（multivariate normality）：多重回归呈现正态分布。\n",
    "- 缺乏多重共线性：假定在数据中有很少或没有多重共线性。多重共线性在特征/变量之间不是独立的时候出现。**所以说，只有变量之间相互独立，才不会出现多重共线性，这是理想的？**\n",
    "### 注意\n",
    "过多的变量有可能会导致模型变得不准确。尤其是当某些变量对结果没有任何影响或对其他变量有显著影响的时候。有很多方法去选择合适的变量。\n",
    "- **前向选择（forward selection）**\n",
    "- **后向消除（backward elimination）**\n",
    "- **双向比较（bi-directional comparision）**\n",
    "### 虚拟变量（dummy variables）\n",
    "在第一天的练习中已经使用imputer方法去对Yes和No进行虚拟变量转换。在多重回归模型中使用分类数据是一个很有效的方法，其中包括将非数字类型的数据引入回归模型中。分类数据是指数据值代表类别（数据值是一个固定的无序的数值）。例如，性别。在回归模型中这些数据能够被虚拟变量表达（将男女两个性别转为0、1）。**感觉这里的分类变量就是量化研究中的名义变量，要使用特定数值进行表达**\n",
    "### 虚拟变量陷阱\n",
    "虚拟变量陷阱是一个方案，在2个以上变量有高相关性时；简单来说，一个变量能够被另一个变量预测。**没看懂，我又查了一下知乎依旧没看懂，应该是由于虚拟变量引入时个数的原因，与前面多重共线性相关，https://zhuanlan.zhihu.com/p/26640957**\n",
    "解决虚拟变量陷阱的方法是丢掉一个分类变量，如果模型中有m个分类变量，在模型里只使用m-1个，漏掉的那个变量可以认为是引用值。\n",
    "## 第一步：数据预处理\n",
    "- 引入库\n",
    "- 引入数据集\n",
    "- 检查丢失数据\n",
    "- 分类变量编码\n",
    "- 处理虚拟变量，避免虚拟变量陷阱\n",
    "- 特征缩放，使用单线性回归模型\n",
    "## 第二步：用训练集拟合模型\n",
    "这一步与单线性回归类似\n",
    "使用***LinearRegression***中的***regressor***，使用***fit()***方法。\n",
    "## 第三步：预测测试结果\n",
    "在这里预测观测数据。输出值为Y_pred。"
   ]
  },
  {
   "cell_type": "code",
   "execution_count": 14,
   "metadata": {},
   "outputs": [
    {
     "data": {
      "text/html": [
       "<div>\n",
       "<style scoped>\n",
       "    .dataframe tbody tr th:only-of-type {\n",
       "        vertical-align: middle;\n",
       "    }\n",
       "\n",
       "    .dataframe tbody tr th {\n",
       "        vertical-align: top;\n",
       "    }\n",
       "\n",
       "    .dataframe thead th {\n",
       "        text-align: right;\n",
       "    }\n",
       "</style>\n",
       "<table border=\"1\" class=\"dataframe\">\n",
       "  <thead>\n",
       "    <tr style=\"text-align: right;\">\n",
       "      <th></th>\n",
       "      <th>R&amp;D Spend</th>\n",
       "      <th>Administration</th>\n",
       "      <th>Marketing Spend</th>\n",
       "      <th>State</th>\n",
       "      <th>Profit</th>\n",
       "    </tr>\n",
       "  </thead>\n",
       "  <tbody>\n",
       "    <tr>\n",
       "      <th>0</th>\n",
       "      <td>165349.20</td>\n",
       "      <td>136897.80</td>\n",
       "      <td>471784.10</td>\n",
       "      <td>New York</td>\n",
       "      <td>192261.83</td>\n",
       "    </tr>\n",
       "    <tr>\n",
       "      <th>1</th>\n",
       "      <td>162597.70</td>\n",
       "      <td>151377.59</td>\n",
       "      <td>443898.53</td>\n",
       "      <td>California</td>\n",
       "      <td>191792.06</td>\n",
       "    </tr>\n",
       "    <tr>\n",
       "      <th>2</th>\n",
       "      <td>153441.51</td>\n",
       "      <td>101145.55</td>\n",
       "      <td>407934.54</td>\n",
       "      <td>Florida</td>\n",
       "      <td>191050.39</td>\n",
       "    </tr>\n",
       "    <tr>\n",
       "      <th>3</th>\n",
       "      <td>144372.41</td>\n",
       "      <td>118671.85</td>\n",
       "      <td>383199.62</td>\n",
       "      <td>New York</td>\n",
       "      <td>182901.99</td>\n",
       "    </tr>\n",
       "    <tr>\n",
       "      <th>4</th>\n",
       "      <td>142107.34</td>\n",
       "      <td>91391.77</td>\n",
       "      <td>366168.42</td>\n",
       "      <td>Florida</td>\n",
       "      <td>166187.94</td>\n",
       "    </tr>\n",
       "  </tbody>\n",
       "</table>\n",
       "</div>"
      ],
      "text/plain": [
       "   R&D Spend  Administration  Marketing Spend       State     Profit\n",
       "0  165349.20       136897.80        471784.10    New York  192261.83\n",
       "1  162597.70       151377.59        443898.53  California  191792.06\n",
       "2  153441.51       101145.55        407934.54     Florida  191050.39\n",
       "3  144372.41       118671.85        383199.62    New York  182901.99\n",
       "4  142107.34        91391.77        366168.42     Florida  166187.94"
      ]
     },
     "execution_count": 14,
     "metadata": {},
     "output_type": "execute_result"
    }
   ],
   "source": [
    "import numpy as np\n",
    "import pandas as pd\n",
    "data=pd.read_excel(r'.\\50_Startups.xlsx')\n",
    "#通过iloc获取数据的所有值\n",
    "X=data.iloc[:,:-1].values\n",
    "Y=data.iloc[:,4].values\n",
    "data.head()"
   ]
  },
  {
   "cell_type": "code",
   "execution_count": 16,
   "metadata": {},
   "outputs": [
    {
     "name": "stdout",
     "output_type": "stream",
     "text": [
      "[165349.2  162597.7  153441.51 144372.41 142107.34 131876.9  134615.46\n",
      " 130298.13 120542.52 123334.88 101913.08 100671.96  93863.75  91992.39\n",
      " 119943.24 114523.61  78013.11  94657.16  91749.16  86419.7   76253.86\n",
      "  78389.47  73994.56  67532.53  77044.01  64664.71  75328.87  72107.6\n",
      "  66051.52  65605.48  61994.48  61136.38  63408.86  55493.95  46426.07\n",
      "  46014.02  28663.76  44069.95  20229.59  38558.51  28754.33  27892.92\n",
      "  23640.93  15505.73  22177.74   1000.23   1315.46      0.      542.05\n",
      "      0.  ]\n",
      "[48. 47. 46. 45. 44. 42. 43. 41. 39. 40. 36. 35. 33. 32. 38. 37. 28. 34.\n",
      " 31. 30. 26. 29. 24. 22. 27. 19. 25. 23. 21. 20. 17. 16. 18. 15. 14. 13.\n",
      "  9. 12.  5. 11. 10.  8.  7.  4.  6.  2.  3.  0.  1.  0.]\n",
      "[[0.0000000e+00 0.0000000e+00 0.0000000e+00 ... 1.0000000e+00\n",
      "  1.3689780e+05 4.7178410e+05]\n",
      " [0.0000000e+00 0.0000000e+00 0.0000000e+00 ... 0.0000000e+00\n",
      "  1.5137759e+05 4.4389853e+05]\n",
      " [0.0000000e+00 0.0000000e+00 0.0000000e+00 ... 0.0000000e+00\n",
      "  1.0114555e+05 4.0793454e+05]\n",
      " ...\n",
      " [1.0000000e+00 0.0000000e+00 0.0000000e+00 ... 0.0000000e+00\n",
      "  1.3542692e+05 0.0000000e+00]\n",
      " [0.0000000e+00 1.0000000e+00 0.0000000e+00 ... 1.0000000e+00\n",
      "  5.1743150e+04 0.0000000e+00]\n",
      " [1.0000000e+00 0.0000000e+00 0.0000000e+00 ... 0.0000000e+00\n",
      "  1.1698380e+05 4.5173060e+04]]\n"
     ]
    }
   ],
   "source": [
    "from sklearn.preprocessing import LabelEncoder, OneHotEncoder\n",
    "labelencoder=LabelEncoder()\n",
    "print(X[:,3])\n",
    "#使用LabelEncoder对标签数值进行标准化\n",
    "X[:,3]=labelencoder.fit_transform(X[:,3])\n",
    "print(X[:,3])\n",
    "#对标签进行独热码处理\n",
    "onehotencoder=OneHotEncoder(categorical_features=[3])\n",
    "X=onehotencoder.fit_transform(X).toarray()\n",
    "print(X)\n",
    "#防止虚拟变量陷阱，从第二个开始取\n",
    "X=X[:,1:]"
   ]
  },
  {
   "cell_type": "code",
   "execution_count": 17,
   "metadata": {},
   "outputs": [],
   "source": [
    "from sklearn.cross_validation import train_test_split\n",
    "X_train, X_test, Y_train, Y_test = train_test_split(X, Y, test_size = 0.2, random_state = 0)"
   ]
  },
  {
   "cell_type": "code",
   "execution_count": 18,
   "metadata": {},
   "outputs": [
    {
     "data": {
      "text/plain": [
       "LinearRegression(copy_X=True, fit_intercept=True, n_jobs=1, normalize=False)"
      ]
     },
     "execution_count": 18,
     "metadata": {},
     "output_type": "execute_result"
    }
   ],
   "source": [
    "from sklearn.linear_model import LinearRegression\n",
    "regressor=LinearRegression()\n",
    "regressor.fit(X_train,Y_train)"
   ]
  },
  {
   "cell_type": "code",
   "execution_count": 19,
   "metadata": {},
   "outputs": [],
   "source": [
    "y_pred=regressor.predict(X_test)"
   ]
  },
  {
   "cell_type": "code",
   "execution_count": 24,
   "metadata": {},
   "outputs": [],
   "source": [
    "# import matplotlib.pyplot as plt\n",
    "# # plt.scatter(X_test , y_pred, color = 'red')\n",
    "# plt.plot(X_train , Y_train, color ='blue')\n",
    "# plt.plot(X_test , y_pred, color ='red')"
   ]
  },
  {
   "cell_type": "code",
   "execution_count": null,
   "metadata": {},
   "outputs": [],
   "source": []
  }
 ],
 "metadata": {
  "kernelspec": {
   "display_name": "Python 3",
   "language": "python",
   "name": "python3"
  },
  "language_info": {
   "codemirror_mode": {
    "name": "ipython",
    "version": 3
   },
   "file_extension": ".py",
   "mimetype": "text/x-python",
   "name": "python",
   "nbconvert_exporter": "python",
   "pygments_lexer": "ipython3",
   "version": "3.7.0"
  }
 },
 "nbformat": 4,
 "nbformat_minor": 2
}
